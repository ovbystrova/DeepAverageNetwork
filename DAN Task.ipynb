{
 "cells": [
  {
   "cell_type": "code",
   "execution_count": 1,
   "id": "7f9c64fb",
   "metadata": {},
   "outputs": [],
   "source": [
    "from typing import Dict, List\n",
    "\n",
    "import matplotlib.pyplot as plt\n",
    "import numpy as np\n",
    "import pandas as pd\n",
    "import seaborn as sns\n",
    "import torch\n",
    "\n",
    "from datasets import load_dataset\n",
    "from nltk.tokenize import ToktokTokenizer\n",
    "from sklearn.metrics import f1_score\n",
    "from torch import nn\n",
    "from torch.utils.data import DataLoader\n",
    "from tqdm import tqdm"
   ]
  },
  {
   "cell_type": "markdown",
   "id": "102d7074",
   "metadata": {},
   "source": [
    "# Deep Average Network для определения сентимента "
   ]
  },
  {
   "cell_type": "markdown",
   "id": "46d972fe",
   "metadata": {},
   "source": [
    "В этой домашке мы будет классифицировать твиты на 3 тональности.  \n",
    "Вы будете использовать предобученные эмбеддинги слов, так что для начала обязательно нужно посмотреть [туториал по их использованию](https://github.com/BobaZooba/DeepNLP/blob/master/Tutorials/Word%20vectors%20%26%20Data%20Loading.ipynb).\n",
    "\n",
    "Наши классы:  \n",
    "\n",
    "Индекс | Sentiment  \n",
    "-- | --  \n",
    "0 | negative  \n",
    "1 | neutral  \n",
    "2 | positive  "
   ]
  },
  {
   "cell_type": "markdown",
   "id": "55010212",
   "metadata": {},
   "source": [
    "Вам предстоит реализовать такую модель:\n",
    "![Архитектура модели DAN](https://www.researchgate.net/profile/Shervin-Minaee/publication/340523298/figure/fig1/AS:878252264550411@1586403065555/The-architecture-of-the-Deep-Average-Network-DAN-10.ppm)\n",
    "\n",
    "Что она из себя представляет:\n",
    "- Мы подаем в нее индексы слов\n",
    "- Переводим индексы слов в эмбеддинги\n",
    "- Усредняем эмбеддинги\n",
    "- Пропускаем усредненные эмбеддинги через `Multilayer Perceptron`\n",
    "\n",
    "В этой домашке вам предстоит:\n",
    "- Перевести тексты в матрицы с индексами токенов\n",
    "- Реализовать модель\n",
    "- Обучить ее\n",
    "- Понять хорошо ли вы это сделали\n",
    "\n",
    "Это очень важная модель, потому что она очень простая и показывает достаточно высокие метрики. В дальнейшем на работе советую использовать такую модель как бейзлайн. И в качестве эмбеддингов слов взять эмбеддинги от берта/роберты/тд."
   ]
  },
  {
   "cell_type": "markdown",
   "id": "65faf753",
   "metadata": {},
   "source": [
    "## 🤗 Datasets\n",
    "В этом туториале мы будем использовать подготовленные данные из библиотеки [datasets](https://github.com/huggingface/datasets). Мы вряд ли еще будем пользоваться этой библиотекой, так как нам будет важно самим подготавливать данные. Во-первых, для простоты, во-вторых, здесь есть достаточно неплохие практики. [Здесь](https://huggingface.co/datasets) вы сможете найти достаточно большое количество различных датасетов. Возможно, когда-нибудь они вам пригодятся."
   ]
  },
  {
   "cell_type": "markdown",
   "id": "5927f02a",
   "metadata": {},
   "source": [
    "## Загрузите эмбеддинги слов\n",
    "Реализуйте функцию по загрузке эмбеддингов из файла. Она должна отдавать словарь слов и `np.array`\n",
    "Формат словаря:\n",
    "```python\n",
    "{\n",
    "    'aabra': 0,\n",
    "    ...,\n",
    "    'mom': 6546,\n",
    "    ...\n",
    "    'xyz': 100355\n",
    "}\n",
    "```\n",
    "Формат матрицы эмбеддингов:\n",
    "```python\n",
    "array([[0.44442278, 0.28644582, 0.04357426, ..., 0.9425766 , 0.02024289,\n",
    "        0.88456545],\n",
    "       [0.77599317, 0.35188237, 0.54801261, ..., 0.91134102, 0.88599103,\n",
    "        0.88068835],\n",
    "       [0.68071886, 0.29352313, 0.95952505, ..., 0.19127958, 0.97723054,\n",
    "        0.36294011],\n",
    "       ...,\n",
    "       [0.03589378, 0.85429694, 0.33437761, ..., 0.39784873, 0.80368014,\n",
    "        0.76368042],\n",
    "       [0.01498725, 0.78155695, 0.80372969, ..., 0.82051826, 0.42314861,\n",
    "        0.18655465],\n",
    "       [0.69263802, 0.82090775, 0.27150426, ..., 0.86582747, 0.40896573,\n",
    "        0.33423976]])\n",
    "```\n",
    "\n",
    "Количество строк в матрице эмбеддингов должно совпадать с размером словаря, то есть для каждого токена должен быть свой эмбеддинг. По параметру `num_tokens` должно брать не более указано в этом параметре количество токенов в словарь и матрицу эмбеддингов."
   ]
  },
  {
   "cell_type": "code",
   "execution_count": null,
   "id": "848ed367",
   "metadata": {},
   "outputs": [],
   "source": [
    "# Раскомментируйте и скачайте эмбеддинги\n",
    "# !wget  https://dl.fbaipublicfiles.com/fasttext/vectors-crawl/cc.ru.300.vec.gz\n",
    "# !gzip -d cc.ru.300.vec.gz"
   ]
  },
  {
   "cell_type": "code",
   "execution_count": 99,
   "id": "e15a9f7c",
   "metadata": {},
   "outputs": [],
   "source": [
    "def load_embeddings(path, num_tokens=None, special_tokens=[\"<PAD>\", \"<UNK>\"], verbose=True):\n",
    "    \"\"\"\n",
    "    Get mapping between token and its id in vocabulary and embeddings matrix\n",
    "    path: str\n",
    "    num_tokens: maximum number of vocabular (None if no truncation apply)\n",
    "    \n",
    "    return: token2index dictionaty, embeddigts matrix (np.array of shape  (num_tokens, emb_dim))\n",
    "    \"\"\"\n",
    "    \n",
    "    with open(path) as f:\n",
    "        num_words, emb_dim = f.readline().strip().split()\n",
    "        num_words, emb_dim = int(num_words), int(emb_dim)\n",
    "        \n",
    "        # Create initial matrix with padding token and unknown\n",
    "        token2index: Dict[str, int] = {token: idx for idx, token in enumerate(special_tokens)}\n",
    "        embeddings_matrix: np.array = np.random.rand(len(token2index), emb_dim)\n",
    "        print(f\"Created embedding matrix with shape {embeddings_matrix.shape}\")\n",
    "\n",
    "        # Specify maximum number of tokens if not setted\n",
    "        if num_tokens is None:\n",
    "            num_tokens = num_words + len(token2index)\n",
    "\n",
    "        progress_bar = tqdm(total=num_tokens-len(token2index), disable=not verbose, desc='Reading embeddings file')\n",
    "        for line in f:\n",
    "            parts = line.strip().split()\n",
    "            token = ' '.join(parts[:-emb_dim]).lower()\n",
    "            if token in token2index:\n",
    "                continue\n",
    "            word_vector = np.array(list(map(float, parts[-emb_dim:]))).reshape(1, -1)\n",
    "            token2index[token] = len(token2index)\n",
    "            embeddings_matrix = np.append(embeddings_matrix, word_vector, axis=0)\n",
    "            progress_bar.update()\n",
    "            if len(token2index) == num_tokens:\n",
    "                break\n",
    "\n",
    "        progress_bar.close()\n",
    "        assert(len(token2index) == embeddings_matrix.shape[0])\n",
    "\n",
    "    return token2index, embeddings_matrix"
   ]
  },
  {
   "cell_type": "code",
   "execution_count": 101,
   "id": "91f9f661",
   "metadata": {},
   "outputs": [
    {
     "name": "stdout",
     "output_type": "stream",
     "text": [
      "Created embedding matrix with shape (2, 300)\n"
     ]
    },
    {
     "name": "stderr",
     "output_type": "stream",
     "text": [
      "Reading embeddings file: 100%|██████████████| 998/998 [00:00<00:00, 1123.47it/s]\n"
     ]
    }
   ],
   "source": [
    "token2index, embeddings_matrix = load_embeddings(\n",
    "    path=\"cc.ru.300.vec\",\n",
    "    num_tokens=1000\n",
    ")"
   ]
  },
  {
   "cell_type": "markdown",
   "id": "c46b2b68",
   "metadata": {},
   "source": [
    "## Загружаем данные из библиотеки\n",
    "Мы сразу получим `torch.utils.data.Dataset`, который сможем передать в `torch.utils.data.DataLoader`"
   ]
  },
  {
   "cell_type": "code",
   "execution_count": 131,
   "id": "e54fdaa8",
   "metadata": {},
   "outputs": [
    {
     "name": "stderr",
     "output_type": "stream",
     "text": [
      "Reusing dataset tweet_eval (/Users/a18692338/.cache/huggingface/datasets/tweet_eval/sentiment/1.1.0/12aee5282b8784f3e95459466db4cdf45c6bf49719c25cdb0743d71ed0410343)\n",
      "Reusing dataset tweet_eval (/Users/a18692338/.cache/huggingface/datasets/tweet_eval/sentiment/1.1.0/12aee5282b8784f3e95459466db4cdf45c6bf49719c25cdb0743d71ed0410343)\n",
      "Reusing dataset tweet_eval (/Users/a18692338/.cache/huggingface/datasets/tweet_eval/sentiment/1.1.0/12aee5282b8784f3e95459466db4cdf45c6bf49719c25cdb0743d71ed0410343)\n"
     ]
    }
   ],
   "source": [
    "dataset_path = \"tweet_eval\"\n",
    "dataset_name = \"sentiment\"\n",
    "\n",
    "train_dataset = load_dataset(path=dataset_path, name=dataset_name, split=\"train\")\n",
    "valid_dataset = load_dataset(path=dataset_path, name=dataset_name, split=\"validation\")\n",
    "test_dataset = load_dataset(path=dataset_path, name=dataset_name, split=\"test\")"
   ]
  },
  {
   "cell_type": "markdown",
   "id": "ad4a0650",
   "metadata": {},
   "source": [
    "## `torch.utils.data.DataLoader`"
   ]
  },
  {
   "cell_type": "code",
   "execution_count": 132,
   "id": "dc742027",
   "metadata": {},
   "outputs": [],
   "source": [
    "train_loader = DataLoader(train_dataset, batch_size=2, shuffle=True)\n",
    "valid_loader = DataLoader(valid_dataset, batch_size=2, shuffle=False)\n",
    "test_loader = DataLoader(test_dataset, batch_size=2, shuffle=False)"
   ]
  },
  {
   "cell_type": "markdown",
   "id": "e9012ae5",
   "metadata": {},
   "source": [
    "## Посмотрим что отдает нам `Loader`\n",
    "Это батч формата:\n",
    "```python\n",
    "batch = {\n",
    "    \"text\": [\n",
    "        \"text1\",\n",
    "        \"text2\",\n",
    "        ...,\n",
    "        \"textn\"\n",
    "    ],\n",
    "    \"label\": tensor([\n",
    "        1,\n",
    "        1,\n",
    "        ...,\n",
    "        0\n",
    "    ])\n",
    "}\n",
    "```\n",
    "То есть у нас есть словарь с двумя ключами `text` и `label`, где хранится n примеров. То есть для 5-го примера в батче текст будет храниться в `batch[\"text\"][5]`, а индекс класса будет храниться в `batch[\"label\"][5]`."
   ]
  },
  {
   "cell_type": "code",
   "execution_count": 133,
   "id": "49bf6b50",
   "metadata": {},
   "outputs": [
    {
     "data": {
      "text/plain": [
       "{'label': tensor([0, 1]),\n",
       " 'text': ['\"Israel\\\\u2019s red line on Iran: 240 kg [of 20% enriched uranium] // Number was put to Netanyahu and he \\\\\"\"\"\"did not contest it\\\\\"\"\"\".',\n",
       "  '#rivalryweek 2 out of 4 today Mets beat the phillies Yankees lose to the Red Sox on a 9th inning 2-out grand slam robbery']}"
      ]
     },
     "execution_count": 133,
     "metadata": {},
     "output_type": "execute_result"
    }
   ],
   "source": [
    "for batch in train_loader:\n",
    "    break\n",
    "\n",
    "batch"
   ]
  },
  {
   "cell_type": "markdown",
   "id": "b0b9f0e6",
   "metadata": {},
   "source": [
    "## Collate\n",
    "Сейчас перед нами стоит проблема: мы получаем тексты в виде строк, а нам нужны тензоры (матрицы) с индексами токенов, к тому же нам нужно западить последовательности токенов, чтобы все сложить в торчовую матрицу. Мы можем сделать это двумя способами:\n",
    "- Достать из `train/valid/test_dataset` данные и написать свой `Dataset`, где внутри будет токенизировать текст, токены будут переводиться в индексы и затем последовательность будет падиться до нужной длины\n",
    "- Сделать функцию, которая бы дополнительно обрабатывали наши батчи. Она вставляется в `DataLoader(collate_fn=<ВАША_ФУНКЦИЯ>)`"
   ]
  },
  {
   "cell_type": "markdown",
   "id": "d03b0f2e",
   "metadata": {},
   "source": [
    "## Если вы хотите сделать свой `Dataset`\n",
    "То вы можете достать данные таким образом."
   ]
  },
  {
   "cell_type": "code",
   "execution_count": 134,
   "id": "26771f88",
   "metadata": {},
   "outputs": [
    {
     "data": {
      "text/plain": [
       "(45615, 45615)"
      ]
     },
     "execution_count": 134,
     "metadata": {},
     "output_type": "execute_result"
    }
   ],
   "source": [
    "len(train_dataset[\"text\"]), len(train_dataset[\"label\"])"
   ]
  },
  {
   "cell_type": "code",
   "execution_count": 135,
   "id": "f25200be",
   "metadata": {},
   "outputs": [
    {
     "data": {
      "text/plain": [
       "['\"QT @user In the original draft of the 7th book, Remus Lupin survived the Battle of Hogwarts. #HappyBirthdayRemusLupin\"',\n",
       " '\"Ben Smith / Smith (concussion) remains out of the lineup Thursday, Curtis #NHL #SJ\"']"
      ]
     },
     "execution_count": 135,
     "metadata": {},
     "output_type": "execute_result"
    }
   ],
   "source": [
    "train_dataset[\"text\"][:2]"
   ]
  },
  {
   "cell_type": "code",
   "execution_count": 136,
   "id": "d4c952b6",
   "metadata": {},
   "outputs": [
    {
     "data": {
      "text/plain": [
       "[2, 1]"
      ]
     },
     "execution_count": 136,
     "metadata": {},
     "output_type": "execute_result"
    }
   ],
   "source": [
    "train_dataset[\"label\"][:2]"
   ]
  },
  {
   "cell_type": "markdown",
   "id": "68184652",
   "metadata": {},
   "source": [
    "## Если вы хотите сделать `collate_fn`"
   ]
  },
  {
   "cell_type": "markdown",
   "id": "706dab4d",
   "metadata": {},
   "source": [
    "### Давайте посмотрим что вообще происходит внутри этого метода\n",
    "Для этого сделаем функцию `empty_collate`, которая принимает на вход батч и отдает его, ничего с ним не делая"
   ]
  },
  {
   "cell_type": "code",
   "execution_count": 137,
   "id": "3b7ce86b",
   "metadata": {},
   "outputs": [],
   "source": [
    "def empty_collate(batch):\n",
    "    return batch"
   ]
  },
  {
   "cell_type": "code",
   "execution_count": 138,
   "id": "26f0fe92",
   "metadata": {},
   "outputs": [],
   "source": [
    "train_loader = DataLoader(train_dataset, batch_size=2, shuffle=True, collate_fn=empty_collate)\n",
    "valid_loader = DataLoader(valid_dataset, batch_size=2, shuffle=False, collate_fn=empty_collate)\n",
    "test_loader = DataLoader(test_dataset, batch_size=2, shuffle=False, collate_fn=empty_collate)"
   ]
  },
  {
   "cell_type": "code",
   "execution_count": 139,
   "id": "942cf78e",
   "metadata": {},
   "outputs": [
    {
     "data": {
      "text/plain": [
       "[{'label': 1,\n",
       "  'text': '@user hey Curtis, could you please inbox me a quote about how NT hockey is doing so far for my NT Sun story.thanx!\"'},\n",
       " {'label': 1, 'text': 'The heat is gunna kill the Knicks tomorrow'}]"
      ]
     },
     "execution_count": 139,
     "metadata": {},
     "output_type": "execute_result"
    }
   ],
   "source": [
    "for batch in train_loader:\n",
    "    break\n",
    "\n",
    "batch"
   ]
  },
  {
   "cell_type": "markdown",
   "id": "91ca5081",
   "metadata": {},
   "source": [
    "## Формат батча\n",
    "```python\n",
    "batch = [\n",
    "    {\n",
    "        \"text\": \"text1\",\n",
    "        \"label\": 0\n",
    "    }, \n",
    "    {\n",
    "        \"text\": \"text2\",\n",
    "        \"label\": 1\n",
    "    },\n",
    "    ...,\n",
    "    {\n",
    "        \"text\": \"textn\",\n",
    "        \"label\": 1\n",
    "    }\n",
    "]\n",
    "```\n",
    "То есть теперь у нас есть список, где каждый элемент — это словарь со значениями `text` и `label`.  \n",
    "\n",
    "Вы можете сделать функцию или класс с методом `collate`. Этот способ решения домашки предодчтительней, так как использовать `collate` очень хорошая практика.\n",
    "\n",
    "Что я предлагаю:\n",
    "- Сделайте класс `Tokenizer`"
   ]
  },
  {
   "cell_type": "code",
   "execution_count": 146,
   "id": "3b9ddcca",
   "metadata": {},
   "outputs": [],
   "source": [
    "class Tokenizer:\n",
    "    \n",
    "    def __init__(self, base_tokenizer, token2index, pad_token, unk_token, max_length):\n",
    "        \n",
    "        self._base_tokenizer = base_tokenizer  # например ToktokTokenizer()\n",
    "        \n",
    "        self.token2index = token2index  # словарь из load_embeddings()\n",
    "        \n",
    "        self.pad_token = pad_token\n",
    "        self.pad_index = self.token2index[self.pad_token]\n",
    "        \n",
    "        self.unk_token = unk_token\n",
    "        self.unk_index = self.token2index[self.unk_token]\n",
    "        \n",
    "        self.max_length = max_length\n",
    "\n",
    "    def tokenize(self, text):\n",
    "        \"\"\"\n",
    "        В этом методе нужно разделить строку текста на токены\n",
    "        \"\"\"\n",
    "        return self._base_tokenizer.tokenize(text)\n",
    "    \n",
    "    def indexing(self, tokenized_text):\n",
    "        \"\"\"\n",
    "        В этом методе нужно перевести список токенов в список с индексами этих токенов\n",
    "        \"\"\"\n",
    "        token_ids = []\n",
    "        for token in tokenized_text:\n",
    "            token_id = token2index.get(token, self.unk_index)\n",
    "            token_ids.append(token_id)\n",
    "        return token_ids\n",
    "        \n",
    "    def padding(self, tokens_indices):\n",
    "        \"\"\"\n",
    "        В этом методе нужно сделать длину tokens_indices равной self.max_length\n",
    "        Опционально убрать повторяющиеся unk'и\n",
    "        \"\"\"\n",
    "        # TODO remove repeating unk indices.\n",
    "        \n",
    "        if len(tokens_indices) > self.max_length:\n",
    "            return tokens_indices[:self.max_length]\n",
    "        \n",
    "        pad_ids = [self.pad_index] * (self.max_length - len(tokens_indices))\n",
    "        tokens_indices.extend(pad_ids)\n",
    "        return tokens_indices\n",
    "    \n",
    "    def __call__(self, text):\n",
    "        \"\"\"\n",
    "        В этом методе нужно перевести строку с текстом в вектор с индексами слов нужно размера (self.max_length)\n",
    "        \"\"\"\n",
    "        text_tokenized = self.tokenize(text)\n",
    "        text_indexed = self.indexing(text_tokenized)\n",
    "        text_padded = self.padding(text_indexed)\n",
    "        return text_padded\n",
    "        \n",
    "    def collate(self, batch):\n",
    "        \n",
    "        tokenized_texts = list()\n",
    "        labels = list()\n",
    "        \n",
    "        for sample in batch:\n",
    "            label = sample[\"label\"]\n",
    "            text = sample[\"text\"]\n",
    "            \n",
    "            text_processed = self(text)\n",
    "            \n",
    "            tokenized_texts.append(text_processed)\n",
    "            labels.append(label)\n",
    "            \n",
    "        tokenized_texts = torch.tensor(tokenized_texts)  # перевод в torch.Tensor\n",
    "        labels = torch.tensor(labels)  # перевод в torch.Tensor\n",
    "        \n",
    "        return tokenized_texts, labels"
   ]
  },
  {
   "cell_type": "code",
   "execution_count": 147,
   "id": "27233689",
   "metadata": {},
   "outputs": [],
   "source": [
    "tokenizer = Tokenizer(\n",
    "    base_tokenizer=ToktokTokenizer(),\n",
    "    token2index=token2index,\n",
    "    pad_token=\"<PAD>\",\n",
    "    unk_token=\"<UNK>\",\n",
    "    max_length=25\n",
    ")"
   ]
  },
  {
   "cell_type": "code",
   "execution_count": 148,
   "id": "d6b094d4",
   "metadata": {},
   "outputs": [
    {
     "name": "stdout",
     "output_type": "stream",
     "text": [
      "[1, 1, 1, 2, 1, 1, 1, 1, 1, 667, 1, 1, 1, 1, 1, 1, 1, 1, 1, 1, 1, 1, 1, 1, 22]\n"
     ]
    }
   ],
   "source": [
    "text = batch[0][\"text\"]\n",
    "print(tokenizer(text))"
   ]
  },
  {
   "cell_type": "markdown",
   "id": "11ab7e6d",
   "metadata": {},
   "source": [
    "## Перед реализацией выбранного метода\n",
    "Советую, чтобы в итоге `Loader` отдавал кортеж с двумя тензорами:\n",
    "- `torch.Tensor` с индексами токенов, размерность `(batch_size, sequence_length)`\n",
    "- `torch.Tensor` с индексами таргетов, размерность `(batch_size)`\n",
    "\n",
    "То есть, чтобы было так:\n",
    "```python\n",
    "for x, y in train_loader:\n",
    "    ...\n",
    "\n",
    ">> x\n",
    ">> tensor([[   37,  3889,   470,  ...,     0,     0,     0],\n",
    "           [ 1509,   581,   144,  ...,     0,     0,     0],\n",
    "           [ 1804,   893,  2457,  ...,     0,     0,     0],\n",
    "           ...,\n",
    "           [  170, 39526,  2102,  ...,     0,     0,     0],\n",
    "           [ 1217,   172, 28440,  ...,     0,     0,     0],\n",
    "           [   37,    56,   603,  ...,     0,     0,     0]])\n",
    "\n",
    ">> y\n",
    ">> tensor([1, 2, 2, 2, 1, 1, 1, 1, 2, 1, 1, 2, 2, 1, 1, 1, 1, 1, 0, 1, 2, 0, 0, 1,\n",
    "           0, 2, 1, 1, 0, 1, 2, 0, 2, 1, 2, 1, 1, 1, 2, 1, 1, 0, 1, 1, 1, 0, 1, 0,\n",
    "           1, 0, 2, 2, 2, 1, 1, 2, 2, 2, 1, 2, 0, 1, 0, 2, 1, 2, 2, 1, 0, 0, 2, 2,\n",
    "           2, 1, 2, 0, 2, 2, 0, 2, 0, 1, 1, 1, 2, 2, 2, 1, 1, 1, 1, 2, 1, 0, 2, 2,\n",
    "           2, 1, 1, 1, 1, 1, 2, 2, 2, 2, 1, 1, 2, 1, 1, 0, 1, 1, 1, 2, 2, 1, 2, 1,\n",
    "           2, 1, 1, 2, 2, 1, 1, 2])\n",
    "\n",
    ">> x.shape\n",
    ">> torch.Size([128, 64])\n",
    "\n",
    ">> y.shape\n",
    ">> torch.Size([128])\n",
    "```\n",
    "При условии, что батч сайз равен 128, а максимальная длина последовательности равна 64.\n",
    "\n",
    "## Помните"
   ]
  },
  {
   "cell_type": "markdown",
   "id": "018cf71c",
   "metadata": {},
   "source": [
    "## <Место для реализации>"
   ]
  },
  {
   "cell_type": "code",
   "execution_count": 149,
   "id": "40268f8c",
   "metadata": {},
   "outputs": [],
   "source": [
    "train_loader = DataLoader(train_dataset, batch_size=2, shuffle=True, collate_fn=tokenizer.collate)\n",
    "valid_loader = DataLoader(valid_dataset, batch_size=2, shuffle=True, collate_fn=tokenizer.collate)\n",
    "test_loader = DataLoader(test_dataset, batch_size=2, shuffle=True, collate_fn=tokenizer.collate)"
   ]
  },
  {
   "cell_type": "code",
   "execution_count": 152,
   "id": "d293b759",
   "metadata": {},
   "outputs": [],
   "source": [
    "for x, y in train_loader:\n",
    "    pass"
   ]
  },
  {
   "cell_type": "code",
   "execution_count": 153,
   "id": "87752ad7",
   "metadata": {},
   "outputs": [],
   "source": [
    "assert(isinstance(x, torch.Tensor))\n",
    "assert(len(x.size()) == 2)\n",
    "\n",
    "assert(isinstance(y, torch.Tensor))\n",
    "assert(len(y.size()) == 1)"
   ]
  },
  {
   "cell_type": "markdown",
   "id": "dbc96104",
   "metadata": {},
   "source": [
    "# Реализация DAN\n",
    "\n",
    "На вход модели будут подавать индексы слов\n",
    "\n",
    "Шаги:\n",
    "- Переводим индексы слов в эмбеддинги\n",
    "- Усредняем эмбеддинги\n",
    "- Пропускаем усредненные эмбеддинги через `Multilayer Perceptron`\n",
    "    - Нужно реализовать самому\n",
    "    \n",
    "Дополнительно:\n",
    "- Добавьте `nn.Dropout`, `nn.BatchNorm` по вкусу\n",
    "- Сделайте усреднение с учетом падов\n",
    "- Используйте эмбеддинги от берта/роберты/тд (когда-нибудь про это будет целый туториал, а пока предлагают вам попробовать сделать это самим)"
   ]
  },
  {
   "cell_type": "markdown",
   "id": "123324f0",
   "metadata": {},
   "source": [
    "# Советы\n",
    "\n",
    "## До обучения\n",
    "- Выберите метрику(ки) качества и расскажите почему она(они)\n",
    "    - Обычно есть основная метрика, по которой принимаем решения какие веса брать и дополнительные, которые нам помогут делать выводы, например, о том все ли хорошо с нашими данными, хорошо ли модель справляется с дисбалансом классов и тд\n",
    "- Эту домашку можно сделать и на `CPU`, но на `GPU` будет сильно быстрее\n",
    "    - Во всех остальных домашках мы будем учить модели на `GPU`\n",
    "    - Рано или поздно вам придется посмотреть этот [туториал](https://www.youtube.com/watch?v=pgk1zGv5lU4)\n",
    "    - Вы можете обучаться на `colab`, это бесплатно\n",
    "\n",
    "## До эпохи\n",
    "- Сделайте списки/словари/другое, чтобы сохранять нужные данные для расчета метрик(и) по всей эпохе для трейна и валидации\n",
    "\n",
    "## Во время эпохи\n",
    "- Используйте [`tqdm`](https://github.com/tqdm/tqdm) как прогресс бар, чтобы понимать как проходит ваше обучение\n",
    "- Логируйте лосс\n",
    "- Логируйте метрику(ки) по батчу\n",
    "- Сохраняйте то, что вам нужно, чтобы посчитать метрик(и) на всю эпоху для трейна и валидации\n",
    "\n",
    "## После эпохи\n",
    "- Посчитайте метрик(и) на всю эпоху для трейна и валидации\n",
    "\n",
    "## После обучения\n",
    "- Провалидируйтесь на тестовом наборе и посмотрите метрики\n",
    "- Постройте [`classification_report`](https://scikit-learn.org/stable/modules/generated/sklearn.metrics.classification_report.html)\n",
    "- Постройте графики:\n",
    "    - [Confusion Matrix](https://scikit-learn.org/stable/modules/model_evaluation.html#confusion-matrix)\n",
    "    - [Опционально] Распределение вероятностей мажоритарного класса (то есть для какого-то примера мы выбираем такой класс и вероятность этого выбора такая-то) на трейне/тесте/валидации\n",
    "        - Если класс был выбран верно и если была ошибка\n",
    "- Подумайте что еще вам будет полезно для того, чтобы ответить на такие вопросы: \n",
    "    - Что в моделе можно улучшить?\n",
    "    - Все ли хорошо с моими данными?\n",
    "    - Все ли хорошо с валидацией?\n",
    "    - Не переобучился ли я?\n",
    "    - Достаточно ли я посмотрел на данные?\n",
    "    - Нужно ли мне улучшить предобработку данных?\n",
    "    - Нужно ли поменять токенизацию или эмбеддинги?\n",
    "    - Нет ли у меня багов в реализации?\n",
    "    - Какие типичные ошибки у моей модели?\n",
    "    - Как я могу их исправить?"
   ]
  },
  {
   "cell_type": "markdown",
   "id": "ff1f451c",
   "metadata": {},
   "source": [
    "# Я выбрал метрику <МЕТРИКА>\n",
    "Почему я выбрал эту метрику:  \n",
    "<РАССКАЗ_ПРО_МЕТРИКУ>"
   ]
  },
  {
   "cell_type": "code",
   "execution_count": 16,
   "id": "da42260c",
   "metadata": {},
   "outputs": [],
   "source": [
    "class DeepAverageNetwork(nn.Module):\n",
    "    "
   ]
  },
  {
   "cell_type": "code",
   "execution_count": 17,
   "id": "7966f715",
   "metadata": {},
   "outputs": [],
   "source": [
    "model = DeepAverageNetwork(...)"
   ]
  },
  {
   "cell_type": "code",
   "execution_count": 18,
   "id": "4b4a2161",
   "metadata": {},
   "outputs": [],
   "source": [
    "model"
   ]
  },
  {
   "cell_type": "markdown",
   "id": "5efad1d1",
   "metadata": {},
   "source": [
    "## Задайте функцию потерь и оптимизатор"
   ]
  },
  {
   "cell_type": "code",
   "execution_count": 19,
   "id": "34c552fa",
   "metadata": {},
   "outputs": [],
   "source": []
  },
  {
   "cell_type": "markdown",
   "id": "628847fe",
   "metadata": {},
   "source": [
    "## Сделайте цикл обучения"
   ]
  },
  {
   "cell_type": "code",
   "execution_count": 20,
   "id": "b634b9ce",
   "metadata": {},
   "outputs": [
    {
     "data": {
      "text/plain": [
       "Ellipsis"
      ]
     },
     "execution_count": 20,
     "metadata": {},
     "output_type": "execute_result"
    }
   ],
   "source": [
    "NUM_EPOCHS = 2  # Задайте количество эпох\n",
    "\n",
    "...\n",
    "\n",
    "for n_epoch in range(NUM_EPOCHS):\n",
    "    \n",
    "    ...\n",
    "    \n",
    "    # train\n",
    "    ...\n",
    "\n",
    "    # validation\n",
    "    ...\n",
    "    \n",
    "# test\n",
    "..."
   ]
  },
  {
   "cell_type": "markdown",
   "id": "87583e79",
   "metadata": {},
   "source": [
    "# Выводы\n",
    "Напишите небольшой отчет о проделанной работе. Что удалось, в чем не уверены, что делать дальше."
   ]
  },
  {
   "cell_type": "code",
   "execution_count": null,
   "id": "c3ad7f80",
   "metadata": {},
   "outputs": [],
   "source": []
  }
 ],
 "metadata": {
  "kernelspec": {
   "display_name": "dl_boba_hw2",
   "language": "python",
   "name": "dl_boba_hw2"
  },
  "language_info": {
   "codemirror_mode": {
    "name": "ipython",
    "version": 3
   },
   "file_extension": ".py",
   "mimetype": "text/x-python",
   "name": "python",
   "nbconvert_exporter": "python",
   "pygments_lexer": "ipython3",
   "version": "3.8.9"
  }
 },
 "nbformat": 4,
 "nbformat_minor": 5
}
