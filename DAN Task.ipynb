{
 "cells": [
  {
   "cell_type": "code",
   "execution_count": 1,
   "id": "9e30dec8",
   "metadata": {},
   "outputs": [],
   "source": [
    "from collections import Counter\n",
    "from typing import Dict, List\n",
    "\n",
    "import matplotlib.pyplot as plt\n",
    "import numpy as np\n",
    "import pandas as pd\n",
    "import seaborn as sns\n",
    "import torch\n",
    "\n",
    "from datasets import load_dataset\n",
    "from nltk.tokenize import ToktokTokenizer\n",
    "from sklearn.metrics import f1_score\n",
    "from sklearn.metrics import classification_report\n",
    "from torch import nn\n",
    "from torch.nn import functional as F\n",
    "from torch.utils.data import DataLoader\n",
    "from tqdm import tqdm"
   ]
  },
  {
   "cell_type": "markdown",
   "id": "63cdc416",
   "metadata": {},
   "source": [
    "# Deep Average Network для определения сентимента "
   ]
  },
  {
   "cell_type": "markdown",
   "id": "56f70001",
   "metadata": {},
   "source": [
    "В этой домашке мы будет классифицировать твиты на 3 тональности.  \n",
    "Вы будете использовать предобученные эмбеддинги слов, так что для начала обязательно нужно посмотреть [туториал по их использованию](https://github.com/BobaZooba/DeepNLP/blob/master/Tutorials/Word%20vectors%20%26%20Data%20Loading.ipynb).\n",
    "\n",
    "Наши классы:  \n",
    "\n",
    "Индекс | Sentiment  \n",
    "-- | --  \n",
    "0 | negative  \n",
    "1 | neutral  \n",
    "2 | positive  "
   ]
  },
  {
   "cell_type": "markdown",
   "id": "f6039f5e",
   "metadata": {},
   "source": [
    "Вам предстоит реализовать такую модель:\n",
    "![Архитектура модели DAN](https://www.researchgate.net/profile/Shervin-Minaee/publication/340523298/figure/fig1/AS:878252264550411@1586403065555/The-architecture-of-the-Deep-Average-Network-DAN-10.ppm)\n",
    "\n",
    "Что она из себя представляет:\n",
    "- Мы подаем в нее индексы слов\n",
    "- Переводим индексы слов в эмбеддинги\n",
    "- Усредняем эмбеддинги\n",
    "- Пропускаем усредненные эмбеддинги через `Multilayer Perceptron`\n",
    "\n",
    "В этой домашке вам предстоит:\n",
    "- Перевести тексты в матрицы с индексами токенов\n",
    "- Реализовать модель\n",
    "- Обучить ее\n",
    "- Понять хорошо ли вы это сделали\n",
    "\n",
    "Это очень важная модель, потому что она очень простая и показывает достаточно высокие метрики. В дальнейшем на работе советую использовать такую модель как бейзлайн. И в качестве эмбеддингов слов взять эмбеддинги от берта/роберты/тд."
   ]
  },
  {
   "cell_type": "markdown",
   "id": "fc511656",
   "metadata": {},
   "source": [
    "## 🤗 Datasets\n",
    "В этом туториале мы будем использовать подготовленные данные из библиотеки [datasets](https://github.com/huggingface/datasets). Мы вряд ли еще будем пользоваться этой библиотекой, так как нам будет важно самим подготавливать данные. Во-первых, для простоты, во-вторых, здесь есть достаточно неплохие практики. [Здесь](https://huggingface.co/datasets) вы сможете найти достаточно большое количество различных датасетов. Возможно, когда-нибудь они вам пригодятся."
   ]
  },
  {
   "cell_type": "markdown",
   "id": "5c84cf67",
   "metadata": {},
   "source": [
    "## Загрузите эмбеддинги слов\n",
    "Реализуйте функцию по загрузке эмбеддингов из файла. Она должна отдавать словарь слов и `np.array`\n",
    "Формат словаря:\n",
    "```python\n",
    "{\n",
    "    'aabra': 0,\n",
    "    ...,\n",
    "    'mom': 6546,\n",
    "    ...\n",
    "    'xyz': 100355\n",
    "}\n",
    "```\n",
    "Формат матрицы эмбеддингов:\n",
    "```python\n",
    "array([[0.44442278, 0.28644582, 0.04357426, ..., 0.9425766 , 0.02024289,\n",
    "        0.88456545],\n",
    "       [0.77599317, 0.35188237, 0.54801261, ..., 0.91134102, 0.88599103,\n",
    "        0.88068835],\n",
    "       [0.68071886, 0.29352313, 0.95952505, ..., 0.19127958, 0.97723054,\n",
    "        0.36294011],\n",
    "       ...,\n",
    "       [0.03589378, 0.85429694, 0.33437761, ..., 0.39784873, 0.80368014,\n",
    "        0.76368042],\n",
    "       [0.01498725, 0.78155695, 0.80372969, ..., 0.82051826, 0.42314861,\n",
    "        0.18655465],\n",
    "       [0.69263802, 0.82090775, 0.27150426, ..., 0.86582747, 0.40896573,\n",
    "        0.33423976]])\n",
    "```\n",
    "\n",
    "Количество строк в матрице эмбеддингов должно совпадать с размером словаря, то есть для каждого токена должен быть свой эмбеддинг. По параметру `num_tokens` должно брать не более указано в этом параметре количество токенов в словарь и матрицу эмбеддингов."
   ]
  },
  {
   "cell_type": "code",
   "execution_count": 2,
   "id": "046549bf",
   "metadata": {},
   "outputs": [],
   "source": [
    "# # Раскомментируйте и скачайте эмбеддинги\n",
    "# !wget  https://dl.fbaipublicfiles.com/fasttext/vectors-crawl/cc.en.300.vec.gz\n",
    "# !gzip -d cc.en.300.vec.gz"
   ]
  },
  {
   "cell_type": "code",
   "execution_count": 3,
   "id": "5b8d18c5",
   "metadata": {},
   "outputs": [],
   "source": [
    "def load_embeddings(path, num_tokens=None, special_tokens=[\"<PAD>\", \"<UNK>\"], verbose=True):\n",
    "    \"\"\"\n",
    "    Get mapping between token and its id in vocabulary and embeddings matrix\n",
    "    path: str\n",
    "    num_tokens: maximum number of vocabular (None if no truncation apply)\n",
    "    \n",
    "    return: token2index dictionaty, embeddigts matrix (np.array of shape  (num_tokens, emb_dim))\n",
    "    \"\"\"\n",
    "    \n",
    "    with open(path) as f:\n",
    "        num_words, emb_dim = f.readline().strip().split()\n",
    "        num_words, emb_dim = int(num_words), int(emb_dim)\n",
    "        \n",
    "        # Create initial matrix with padding token and unknown\n",
    "        token2index: Dict[str, int] = {token: idx for idx, token in enumerate(special_tokens)}\n",
    "        embeddings_matrix: np.array = np.random.rand(len(token2index), emb_dim)\n",
    "        print(f\"Created embedding matrix with shape {embeddings_matrix.shape}\")\n",
    "\n",
    "        # Specify maximum number of tokens if not setted\n",
    "        if num_tokens is None:\n",
    "            num_tokens = num_words + len(token2index)\n",
    "\n",
    "        progress_bar = tqdm(total=num_tokens-len(token2index), disable=not verbose, desc='Reading embeddings file')\n",
    "        for line in f:\n",
    "            parts = line.strip().split()\n",
    "            token = ' '.join(parts[:-emb_dim]).lower()\n",
    "            if token in token2index:\n",
    "                continue\n",
    "            word_vector = np.array(list(map(float, parts[-emb_dim:]))).reshape(1, -1)\n",
    "            token2index[token] = len(token2index)\n",
    "            embeddings_matrix = np.append(embeddings_matrix, word_vector, axis=0)\n",
    "            progress_bar.update()\n",
    "            if len(token2index) == num_tokens:\n",
    "                break\n",
    "\n",
    "        progress_bar.close()\n",
    "        assert(len(token2index) == embeddings_matrix.shape[0])\n",
    "\n",
    "    return token2index, embeddings_matrix"
   ]
  },
  {
   "cell_type": "code",
   "execution_count": 4,
   "id": "9e3b6451",
   "metadata": {
    "scrolled": true
   },
   "outputs": [
    {
     "name": "stdout",
     "output_type": "stream",
     "text": [
      "Created embedding matrix with shape (2, 300)\n"
     ]
    },
    {
     "name": "stderr",
     "output_type": "stream",
     "text": [
      "Reading embeddings file: 100%|██████████| 49998/49998 [43:47<00:00, 19.03it/s]\n"
     ]
    }
   ],
   "source": [
    "token2index, embeddings_matrix = load_embeddings(\n",
    "    path=\"cc.en.300.vec\",\n",
    "    num_tokens=50_000\n",
    ")"
   ]
  },
  {
   "cell_type": "markdown",
   "id": "248a2615",
   "metadata": {},
   "source": [
    "## Загружаем данные из библиотеки\n",
    "Мы сразу получим `torch.utils.data.Dataset`, который сможем передать в `torch.utils.data.DataLoader`"
   ]
  },
  {
   "cell_type": "code",
   "execution_count": 5,
   "id": "12bc779e",
   "metadata": {},
   "outputs": [
    {
     "name": "stderr",
     "output_type": "stream",
     "text": [
      "Reusing dataset tweet_eval (/home/jovyan/.cache/huggingface/datasets/tweet_eval/sentiment/1.1.0/12aee5282b8784f3e95459466db4cdf45c6bf49719c25cdb0743d71ed0410343)\n",
      "Reusing dataset tweet_eval (/home/jovyan/.cache/huggingface/datasets/tweet_eval/sentiment/1.1.0/12aee5282b8784f3e95459466db4cdf45c6bf49719c25cdb0743d71ed0410343)\n",
      "Reusing dataset tweet_eval (/home/jovyan/.cache/huggingface/datasets/tweet_eval/sentiment/1.1.0/12aee5282b8784f3e95459466db4cdf45c6bf49719c25cdb0743d71ed0410343)\n"
     ]
    }
   ],
   "source": [
    "dataset_path = \"tweet_eval\"\n",
    "dataset_name = \"sentiment\"\n",
    "\n",
    "train_dataset = load_dataset(path=dataset_path, name=dataset_name, split=\"train\")\n",
    "valid_dataset = load_dataset(path=dataset_path, name=dataset_name, split=\"validation\")\n",
    "test_dataset = load_dataset(path=dataset_path, name=dataset_name, split=\"test\")"
   ]
  },
  {
   "cell_type": "markdown",
   "id": "37b4c1e6",
   "metadata": {},
   "source": [
    "## `torch.utils.data.DataLoader`"
   ]
  },
  {
   "cell_type": "code",
   "execution_count": 6,
   "id": "d3141545",
   "metadata": {},
   "outputs": [],
   "source": [
    "train_loader = DataLoader(train_dataset, batch_size=2, shuffle=True)\n",
    "valid_loader = DataLoader(valid_dataset, batch_size=2, shuffle=False)\n",
    "test_loader = DataLoader(test_dataset, batch_size=2, shuffle=False)"
   ]
  },
  {
   "cell_type": "markdown",
   "id": "b1696a61",
   "metadata": {},
   "source": [
    "## Посмотрим что отдает нам `Loader`\n",
    "Это батч формата:\n",
    "```python\n",
    "batch = {\n",
    "    \"text\": [\n",
    "        \"text1\",\n",
    "        \"text2\",\n",
    "        ...,\n",
    "        \"textn\"\n",
    "    ],\n",
    "    \"label\": tensor([\n",
    "        1,\n",
    "        1,\n",
    "        ...,\n",
    "        0\n",
    "    ])\n",
    "}\n",
    "```\n",
    "То есть у нас есть словарь с двумя ключами `text` и `label`, где хранится n примеров. То есть для 5-го примера в батче текст будет храниться в `batch[\"text\"][5]`, а индекс класса будет храниться в `batch[\"label\"][5]`."
   ]
  },
  {
   "cell_type": "code",
   "execution_count": 7,
   "id": "58c50cdd",
   "metadata": {},
   "outputs": [
    {
     "data": {
      "text/plain": [
       "{'text': ['@user on Sunday in Milan it\\'s Derby Day! I\\'m re-wearching that video about it, Sick. #Amala #forzaInter\"',\n",
       "  'Do the Black Friday verses from Kendrick and Cole count?'],\n",
       " 'label': tensor([2, 1])}"
      ]
     },
     "execution_count": 7,
     "metadata": {},
     "output_type": "execute_result"
    }
   ],
   "source": [
    "for batch in train_loader:\n",
    "    break\n",
    "\n",
    "batch"
   ]
  },
  {
   "cell_type": "markdown",
   "id": "d83ed621",
   "metadata": {},
   "source": [
    "## Collate\n",
    "Сейчас перед нами стоит проблема: мы получаем тексты в виде строк, а нам нужны тензоры (матрицы) с индексами токенов, к тому же нам нужно западить последовательности токенов, чтобы все сложить в торчовую матрицу. Мы можем сделать это двумя способами:\n",
    "- Достать из `train/valid/test_dataset` данные и написать свой `Dataset`, где внутри будет токенизировать текст, токены будут переводиться в индексы и затем последовательность будет падиться до нужной длины\n",
    "- Сделать функцию, которая бы дополнительно обрабатывали наши батчи. Она вставляется в `DataLoader(collate_fn=<ВАША_ФУНКЦИЯ>)`"
   ]
  },
  {
   "cell_type": "markdown",
   "id": "b959b9af",
   "metadata": {},
   "source": [
    "## Если вы хотите сделать свой `Dataset`\n",
    "То вы можете достать данные таким образом."
   ]
  },
  {
   "cell_type": "code",
   "execution_count": 8,
   "id": "122ef8dc",
   "metadata": {},
   "outputs": [
    {
     "data": {
      "text/plain": [
       "(45615, 45615)"
      ]
     },
     "execution_count": 8,
     "metadata": {},
     "output_type": "execute_result"
    }
   ],
   "source": [
    "len(train_dataset[\"text\"]), len(train_dataset[\"label\"])"
   ]
  },
  {
   "cell_type": "code",
   "execution_count": 9,
   "id": "7bba93de",
   "metadata": {},
   "outputs": [
    {
     "data": {
      "text/plain": [
       "['\"QT @user In the original draft of the 7th book, Remus Lupin survived the Battle of Hogwarts. #HappyBirthdayRemusLupin\"',\n",
       " '\"Ben Smith / Smith (concussion) remains out of the lineup Thursday, Curtis #NHL #SJ\"']"
      ]
     },
     "execution_count": 9,
     "metadata": {},
     "output_type": "execute_result"
    }
   ],
   "source": [
    "train_dataset[\"text\"][:2]"
   ]
  },
  {
   "cell_type": "code",
   "execution_count": 10,
   "id": "222d8463",
   "metadata": {},
   "outputs": [
    {
     "data": {
      "text/plain": [
       "[2, 1]"
      ]
     },
     "execution_count": 10,
     "metadata": {},
     "output_type": "execute_result"
    }
   ],
   "source": [
    "train_dataset[\"label\"][:2]"
   ]
  },
  {
   "cell_type": "markdown",
   "id": "460a3d28",
   "metadata": {},
   "source": [
    "## Если вы хотите сделать `collate_fn`"
   ]
  },
  {
   "cell_type": "markdown",
   "id": "2e68279c",
   "metadata": {},
   "source": [
    "### Давайте посмотрим что вообще происходит внутри этого метода\n",
    "Для этого сделаем функцию `empty_collate`, которая принимает на вход батч и отдает его, ничего с ним не делая"
   ]
  },
  {
   "cell_type": "code",
   "execution_count": 11,
   "id": "43c2484c",
   "metadata": {},
   "outputs": [],
   "source": [
    "def empty_collate(batch):\n",
    "    return batch"
   ]
  },
  {
   "cell_type": "code",
   "execution_count": 12,
   "id": "4ab72d13",
   "metadata": {},
   "outputs": [],
   "source": [
    "train_loader = DataLoader(train_dataset, batch_size=2, shuffle=True, collate_fn=empty_collate)\n",
    "valid_loader = DataLoader(valid_dataset, batch_size=2, shuffle=False, collate_fn=empty_collate)\n",
    "test_loader = DataLoader(test_dataset, batch_size=2, shuffle=False, collate_fn=empty_collate)"
   ]
  },
  {
   "cell_type": "code",
   "execution_count": 13,
   "id": "a8040637",
   "metadata": {},
   "outputs": [
    {
     "data": {
      "text/plain": [
       "[{'text': '\"The 2013 San Diego County Fair theme will be \"\"\"\"Game On,\"\"\"\" all about board, pinball, TV and computer games. Begins June 8. #sdfair\"',\n",
       "  'label': 1},\n",
       " {'text': '\"\\\\\"\"\"\"Ghost of Mississippi\\\\\"\"\"\" The story of the ghost that tripped Eli Manning on 4th down that fateful autumn night in Oxford. #30for30\"',\n",
       "  'label': 1}]"
      ]
     },
     "execution_count": 13,
     "metadata": {},
     "output_type": "execute_result"
    }
   ],
   "source": [
    "for batch in train_loader:\n",
    "    break\n",
    "\n",
    "batch"
   ]
  },
  {
   "cell_type": "markdown",
   "id": "7ab550e8",
   "metadata": {},
   "source": [
    "## Формат батча\n",
    "```python\n",
    "batch = [\n",
    "    {\n",
    "        \"text\": \"text1\",\n",
    "        \"label\": 0\n",
    "    }, \n",
    "    {\n",
    "        \"text\": \"text2\",\n",
    "        \"label\": 1\n",
    "    },\n",
    "    ...,\n",
    "    {\n",
    "        \"text\": \"textn\",\n",
    "        \"label\": 1\n",
    "    }\n",
    "]\n",
    "```\n",
    "То есть теперь у нас есть список, где каждый элемент — это словарь со значениями `text` и `label`.  \n",
    "\n",
    "Вы можете сделать функцию или класс с методом `collate`. Этот способ решения домашки предодчтительней, так как использовать `collate` очень хорошая практика.\n",
    "\n",
    "Что я предлагаю:\n",
    "- Сделайте класс `Tokenizer`"
   ]
  },
  {
   "cell_type": "code",
   "execution_count": 14,
   "id": "0d1c622f",
   "metadata": {},
   "outputs": [],
   "source": [
    "class Tokenizer:\n",
    "    \n",
    "    def __init__(self, base_tokenizer, token2index, pad_token, unk_token, max_length):\n",
    "        \n",
    "        self._base_tokenizer = base_tokenizer  # например ToktokTokenizer()\n",
    "        \n",
    "        self.token2index = token2index  # словарь из load_embeddings()\n",
    "        \n",
    "        self.pad_token = pad_token\n",
    "        self.pad_index = self.token2index[self.pad_token]\n",
    "        \n",
    "        self.unk_token = unk_token\n",
    "        self.unk_index = self.token2index[self.unk_token]\n",
    "        \n",
    "        self.max_length = max_length\n",
    "\n",
    "    def tokenize(self, text):\n",
    "        \"\"\"\n",
    "        В этом методе нужно разделить строку текста на токены\n",
    "        \"\"\"\n",
    "        return self._base_tokenizer.tokenize(text)\n",
    "    \n",
    "    def indexing(self, tokenized_text):\n",
    "        \"\"\"\n",
    "        В этом методе нужно перевести список токенов в список с индексами этих токенов\n",
    "        \"\"\"\n",
    "        token_ids = []\n",
    "        for token in tokenized_text:\n",
    "            token_id = token2index.get(token, self.unk_index)\n",
    "            token_ids.append(token_id)\n",
    "        return token_ids\n",
    "        \n",
    "    def padding(self, tokens_indices):\n",
    "        \"\"\"\n",
    "        В этом методе нужно сделать длину tokens_indices равной self.max_length\n",
    "        Опционально убрать повторяющиеся unk'и\n",
    "        \"\"\"\n",
    "        # TODO remove repeating unk indices.\n",
    "        \n",
    "        if len(tokens_indices) > self.max_length:\n",
    "            return tokens_indices[:self.max_length]\n",
    "        \n",
    "        pad_ids = [self.pad_index] * (self.max_length - len(tokens_indices))\n",
    "        tokens_indices.extend(pad_ids)\n",
    "        return tokens_indices\n",
    "    \n",
    "    def __call__(self, text):\n",
    "        \"\"\"\n",
    "        В этом методе нужно перевести строку с текстом в вектор с индексами слов нужно размера (self.max_length)\n",
    "        \"\"\"\n",
    "        text_tokenized = self.tokenize(text)\n",
    "        text_indexed = self.indexing(text_tokenized)\n",
    "        text_padded = self.padding(text_indexed)\n",
    "        return text_padded\n",
    "        \n",
    "    def collate(self, batch):\n",
    "        \n",
    "        tokenized_texts = list()\n",
    "        labels = list()\n",
    "        \n",
    "        for sample in batch:\n",
    "            label = sample[\"label\"]\n",
    "            text = sample[\"text\"]\n",
    "            \n",
    "            text_processed = self(text)\n",
    "            \n",
    "            tokenized_texts.append(text_processed)\n",
    "            labels.append(label)\n",
    "            \n",
    "        tokenized_texts = torch.tensor(tokenized_texts)  # перевод в torch.Tensor\n",
    "        labels = torch.tensor(labels)  # перевод в torch.Tensor\n",
    "        \n",
    "        return tokenized_texts, labels"
   ]
  },
  {
   "cell_type": "code",
   "execution_count": 15,
   "id": "96eb185e",
   "metadata": {},
   "outputs": [],
   "source": [
    "tokenizer = Tokenizer(\n",
    "    base_tokenizer=ToktokTokenizer(),\n",
    "    token2index=token2index,\n",
    "    pad_token=\"<PAD>\",\n",
    "    unk_token=\"<UNK>\",\n",
    "    max_length=25\n",
    ")"
   ]
  },
  {
   "cell_type": "code",
   "execution_count": 16,
   "id": "9122947d",
   "metadata": {},
   "outputs": [
    {
     "name": "stdout",
     "output_type": "stream",
     "text": [
      "[17, 1, 208, 1, 1, 1, 1, 1798, 45, 29, 17, 17, 17, 17, 1, 1, 2, 17, 17, 17, 17, 49, 56, 874, 2]\n"
     ]
    }
   ],
   "source": [
    "text = batch[0][\"text\"]\n",
    "print(tokenizer(text))"
   ]
  },
  {
   "cell_type": "markdown",
   "id": "9a48ed80",
   "metadata": {},
   "source": [
    "## Перед реализацией выбранного метода\n",
    "Советую, чтобы в итоге `Loader` отдавал кортеж с двумя тензорами:\n",
    "- `torch.Tensor` с индексами токенов, размерность `(batch_size, sequence_length)`\n",
    "- `torch.Tensor` с индексами таргетов, размерность `(batch_size)`\n",
    "\n",
    "То есть, чтобы было так:\n",
    "```python\n",
    "for x, y in train_loader:\n",
    "    ...\n",
    "\n",
    ">> x\n",
    ">> tensor([[   37,  3889,   470,  ...,     0,     0,     0],\n",
    "           [ 1509,   581,   144,  ...,     0,     0,     0],\n",
    "           [ 1804,   893,  2457,  ...,     0,     0,     0],\n",
    "           ...,\n",
    "           [  170, 39526,  2102,  ...,     0,     0,     0],\n",
    "           [ 1217,   172, 28440,  ...,     0,     0,     0],\n",
    "           [   37,    56,   603,  ...,     0,     0,     0]])\n",
    "\n",
    ">> y\n",
    ">> tensor([1, 2, 2, 2, 1, 1, 1, 1, 2, 1, 1, 2, 2, 1, 1, 1, 1, 1, 0, 1, 2, 0, 0, 1,\n",
    "           0, 2, 1, 1, 0, 1, 2, 0, 2, 1, 2, 1, 1, 1, 2, 1, 1, 0, 1, 1, 1, 0, 1, 0,\n",
    "           1, 0, 2, 2, 2, 1, 1, 2, 2, 2, 1, 2, 0, 1, 0, 2, 1, 2, 2, 1, 0, 0, 2, 2,\n",
    "           2, 1, 2, 0, 2, 2, 0, 2, 0, 1, 1, 1, 2, 2, 2, 1, 1, 1, 1, 2, 1, 0, 2, 2,\n",
    "           2, 1, 1, 1, 1, 1, 2, 2, 2, 2, 1, 1, 2, 1, 1, 0, 1, 1, 1, 2, 2, 1, 2, 1,\n",
    "           2, 1, 1, 2, 2, 1, 1, 2])\n",
    "\n",
    ">> x.shape\n",
    ">> torch.Size([128, 64])\n",
    "\n",
    ">> y.shape\n",
    ">> torch.Size([128])\n",
    "```\n",
    "При условии, что батч сайз равен 128, а максимальная длина последовательности равна 64.\n",
    "\n",
    "## Помните"
   ]
  },
  {
   "cell_type": "markdown",
   "id": "ed62eee1",
   "metadata": {},
   "source": [
    "## <Место для реализации>"
   ]
  },
  {
   "cell_type": "code",
   "execution_count": 17,
   "id": "56dacc49",
   "metadata": {},
   "outputs": [],
   "source": [
    "train_loader = DataLoader(train_dataset, batch_size=256, shuffle=True, collate_fn=tokenizer.collate)\n",
    "valid_loader = DataLoader(valid_dataset, batch_size=256, shuffle=True, collate_fn=tokenizer.collate)\n",
    "test_loader = DataLoader(test_dataset, batch_size=256, shuffle=True, collate_fn=tokenizer.collate)"
   ]
  },
  {
   "cell_type": "code",
   "execution_count": 18,
   "id": "353ba9d1",
   "metadata": {},
   "outputs": [],
   "source": [
    "for x, y in train_loader:\n",
    "    pass"
   ]
  },
  {
   "cell_type": "code",
   "execution_count": 19,
   "id": "66eb2900",
   "metadata": {},
   "outputs": [],
   "source": [
    "assert(isinstance(x, torch.Tensor))\n",
    "assert(len(x.size()) == 2)\n",
    "\n",
    "assert(isinstance(y, torch.Tensor))\n",
    "assert(len(y.size()) == 1)"
   ]
  },
  {
   "cell_type": "markdown",
   "id": "5d3000ed",
   "metadata": {},
   "source": [
    "# Реализация DAN\n",
    "\n",
    "На вход модели будут подавать индексы слов\n",
    "\n",
    "Шаги:\n",
    "- Переводим индексы слов в эмбеддинги\n",
    "- Усредняем эмбеддинги\n",
    "- Пропускаем усредненные эмбеддинги через `Multilayer Perceptron`\n",
    "    - Нужно реализовать самому\n",
    "    \n",
    "Дополнительно:\n",
    "- Добавьте `nn.Dropout`, `nn.BatchNorm` по вкусу\n",
    "- Сделайте усреднение с учетом падов\n",
    "- Используйте эмбеддинги от берта/роберты/тд (когда-нибудь про это будет целый туториал, а пока предлагают вам попробовать сделать это самим)"
   ]
  },
  {
   "cell_type": "markdown",
   "id": "1b9a0c72",
   "metadata": {},
   "source": [
    "# Советы\n",
    "\n",
    "## До обучения\n",
    "- Выберите метрику(ки) качества и расскажите почему она(они)\n",
    "    - Обычно есть основная метрика, по которой принимаем решения какие веса брать и дополнительные, которые нам помогут делать выводы, например, о том все ли хорошо с нашими данными, хорошо ли модель справляется с дисбалансом классов и тд\n",
    "- Эту домашку можно сделать и на `CPU`, но на `GPU` будет сильно быстрее\n",
    "    - Во всех остальных домашках мы будем учить модели на `GPU`\n",
    "    - Рано или поздно вам придется посмотреть этот [туториал](https://www.youtube.com/watch?v=pgk1zGv5lU4)\n",
    "    - Вы можете обучаться на `colab`, это бесплатно\n",
    "\n",
    "## До эпохи\n",
    "- Сделайте списки/словари/другое, чтобы сохранять нужные данные для расчета метрик(и) по всей эпохе для трейна и валидации\n",
    "\n",
    "## Во время эпохи\n",
    "- Используйте [`tqdm`](https://github.com/tqdm/tqdm) как прогресс бар, чтобы понимать как проходит ваше обучение\n",
    "- Логируйте лосс\n",
    "- Логируйте метрику(ки) по батчу\n",
    "- Сохраняйте то, что вам нужно, чтобы посчитать метрик(и) на всю эпоху для трейна и валидации\n",
    "\n",
    "## После эпохи\n",
    "- Посчитайте метрик(и) на всю эпоху для трейна и валидации\n",
    "\n",
    "## После обучения\n",
    "- Провалидируйтесь на тестовом наборе и посмотрите метрики\n",
    "- Постройте [`classification_report`](https://scikit-learn.org/stable/modules/generated/sklearn.metrics.classification_report.html)\n",
    "- Постройте графики:\n",
    "    - [Confusion Matrix](https://scikit-learn.org/stable/modules/model_evaluation.html#confusion-matrix)\n",
    "    - [Опционально] Распределение вероятностей мажоритарного класса (то есть для какого-то примера мы выбираем такой класс и вероятность этого выбора такая-то) на трейне/тесте/валидации\n",
    "        - Если класс был выбран верно и если была ошибка\n",
    "- Подумайте что еще вам будет полезно для того, чтобы ответить на такие вопросы: \n",
    "    - Что в моделе можно улучшить?\n",
    "    - Все ли хорошо с моими данными?\n",
    "    - Все ли хорошо с валидацией?\n",
    "    - Не переобучился ли я?\n",
    "    - Достаточно ли я посмотрел на данные?\n",
    "    - Нужно ли мне улучшить предобработку данных?\n",
    "    - Нужно ли поменять токенизацию или эмбеддинги?\n",
    "    - Нет ли у меня багов в реализации?\n",
    "    - Какие типичные ошибки у моей модели?\n",
    "    - Как я могу их исправить?"
   ]
  },
  {
   "cell_type": "code",
   "execution_count": 20,
   "id": "e96396e1",
   "metadata": {},
   "outputs": [],
   "source": [
    "# Посмотрим на распределение классов по всей выборке. \n",
    "\n",
    "train_labels = pd.Series([x[\"label\"] for x in train_dataset])\n",
    "valid_labels = pd.Series([x[\"label\"] for x in valid_dataset])\n",
    "test_labels = pd.Series([x[\"label\"] for x in test_dataset])"
   ]
  },
  {
   "cell_type": "code",
   "execution_count": 21,
   "id": "c9103db5",
   "metadata": {},
   "outputs": [],
   "source": [
    "id2label = {0: \"negative\", 1: \"neutral\", 2:\"positive\"}"
   ]
  },
  {
   "cell_type": "code",
   "execution_count": 22,
   "id": "cadf4fdd",
   "metadata": {},
   "outputs": [
    {
     "data": {
      "image/png": "[encoded data removed]",
      "text/plain": [
       "<Figure size 1080x1080 with 3 Axes>"
      ]
     },
     "metadata": {},
     "output_type": "display_data"
    }
   ],
   "source": [
    "\n",
    "fig, axs = plt.subplots(1, 3, figsize=(15,15))\n",
    "\n",
    "axs[0].pie(\n",
    "    train_labels.value_counts(),\n",
    "    autopct=\"%.1f%%\", \n",
    "    labels=[id2label[key] for key in train_labels.value_counts().keys()], \n",
    "    pctdistance=0.5, \n",
    "    textprops = dict(fontsize = 12),\n",
    ")\n",
    "axs[0].set_title(\"Train Label Distribution\")\n",
    "\n",
    "axs[1].pie(\n",
    "    valid_labels.value_counts(),\n",
    "    autopct=\"%.1f%%\", \n",
    "    labels=[id2label[key] for key in valid_labels.value_counts().keys()], \n",
    "    pctdistance=0.5, \n",
    "    textprops = dict(fontsize = 14)\n",
    ")\n",
    "axs[1].set_title(\"Validation Label Distribution\")\n",
    "\n",
    "axs[2].pie(\n",
    "    test_labels.value_counts(),\n",
    "    autopct=\"%.1f%%\", \n",
    "    labels=[id2label[key] for key in test_labels.value_counts().keys()], \n",
    "    pctdistance=0.5, \n",
    "    textprops = dict(fontsize = 12)\n",
    ")\n",
    "axs[2].set_title(\"Test Label Distribution\")\n",
    "\n",
    "plt.show()"
   ]
  },
  {
   "cell_type": "markdown",
   "id": "a2492814",
   "metadata": {},
   "source": [
    "# Я выбрала метрику F1-Score (weighted)\n",
    "\n",
    "Если мы посмтрим на распледеление таргета на рисунках выше, то увидим, что у нас несбалансированный датасет (самый малочисленный класс - 0). Поэтому базовая метрика для классификации Accuracy нам здесь может показать нерелевантное качество на класссе 0 (модели может быть выгодно чаще выбирать лейбл других классов, чем этот => будет страдать Recall для класса 0 и Precision для остальных классов). \n",
    "\n",
    "Так как мы считаем, что все классы для нас одинаково важны, то нужно соблюзти баланс в качестве относительно каждого класса. Это и позволяет сделать метрика F1-weighted. Она считает F1-score для каждого класса и возвращает средний F1-score в соответствии с пропорциями классов => 1)будет учтен дисбаланс классов 2)Для каждого класса будут сбалансированы Precision и Recall\n",
    "\n"
   ]
  },
  {
   "cell_type": "code",
   "execution_count": 23,
   "id": "567aa8a5",
   "metadata": {},
   "outputs": [],
   "source": [
    "class DeepAverageNetwork(nn.Module):\n",
    "    def __init__(self,\n",
    "        vocab_size=10000,\n",
    "        embedding_dim=300,\n",
    "        do_freeze_embeddings=False,\n",
    "        padding_idx=0,\n",
    "        embeddings=None,\n",
    "        pooling=\"mean\",\n",
    "        hidden_size=128,\n",
    "        num_classes=3,\n",
    "    ):       \n",
    "        super(DeepAverageNetwork, self).__init__()\n",
    "        \n",
    "        self.embeddings = nn.Embedding(vocab_size, embedding_dim, padding_idx=padding_idx)\n",
    "        if embeddings is not None:\n",
    "            self.embeddings.from_pretrained(\n",
    "                torch.tensor(embeddings),\n",
    "                freeze=do_freeze_embeddings,\n",
    "                padding_idx=padding_idx\n",
    "            )\n",
    "        \n",
    "        self.fc1 = nn.Linear(embedding_dim, hidden_size)\n",
    "        self.relu = nn.ReLU()\n",
    "        self.fc2 = nn.Linear(hidden_size, num_classes)\n",
    "\n",
    "        if pooling == \"mean\":\n",
    "            self.pooling = torch.mean\n",
    "        else:\n",
    "            print(f\"Unsuppoted Pulling Type {pooling}. Switch pooling to default mean type\")\n",
    "        \n",
    "    \n",
    "    def forward(self, x: torch.Tensor): # (batch_size, max_seq_length)\n",
    "        \n",
    "        x = self.embeddings(x) # (batch_size, max_seq_length, embedding_dim)\n",
    "        x = self.pooling(x, dim=1) # (batch_size, embedding_dim)\n",
    "        x = self.fc1(x) # (batch_size, hidden_size)\n",
    "        x = self.relu(x)\n",
    "        x = self.fc2(x) # (batch_size, num_classes)\n",
    "        \n",
    "        return x"
   ]
  },
  {
   "cell_type": "code",
   "execution_count": 24,
   "id": "9f6916d2",
   "metadata": {},
   "outputs": [],
   "source": [
    "model = DeepAverageNetwork(\n",
    "    vocab_size=embeddings_matrix.shape[0],\n",
    "    embedding_dim=embeddings_matrix.shape[-1],\n",
    "    do_freeze_embeddings=False,\n",
    "    padding_idx=tokenizer.pad_index,\n",
    "    embeddings=embeddings_matrix,\n",
    "    pooling=\"mean\",\n",
    "    hidden_size=128,\n",
    "    num_classes=3,\n",
    ")"
   ]
  },
  {
   "cell_type": "code",
   "execution_count": 25,
   "id": "84ad9383",
   "metadata": {},
   "outputs": [
    {
     "data": {
      "text/plain": [
       "DeepAverageNetwork(\n",
       "  (embeddings): Embedding(50000, 300, padding_idx=0)\n",
       "  (fc1): Linear(in_features=300, out_features=128, bias=True)\n",
       "  (relu): ReLU()\n",
       "  (fc2): Linear(in_features=128, out_features=3, bias=True)\n",
       ")"
      ]
     },
     "execution_count": 25,
     "metadata": {},
     "output_type": "execute_result"
    }
   ],
   "source": [
    "model"
   ]
  },
  {
   "cell_type": "markdown",
   "id": "8b2da27b",
   "metadata": {},
   "source": [
    "## Задайте функцию потерь и оптимизатор"
   ]
  },
  {
   "cell_type": "code",
   "execution_count": 26,
   "id": "e903b8e6",
   "metadata": {},
   "outputs": [
    {
     "data": {
      "text/plain": [
       "CrossEntropyLoss()"
      ]
     },
     "execution_count": 26,
     "metadata": {},
     "output_type": "execute_result"
    }
   ],
   "source": [
    "criterion = nn.CrossEntropyLoss()\n",
    "optimizer = torch.optim.Adam(params=model.parameters(), lr=1e-3) #1e-3 был выбран дефолтным значением\n",
    "\n",
    "device = torch.device('cuda' if torch.cuda.is_available() else 'cpu')  \n",
    "model.to(device)\n",
    "criterion.to(device)"
   ]
  },
  {
   "cell_type": "markdown",
   "id": "d18dced5",
   "metadata": {},
   "source": [
    "## Сделайте цикл обучения"
   ]
  },
  {
   "cell_type": "code",
   "execution_count": 27,
   "id": "e146c0a9",
   "metadata": {},
   "outputs": [],
   "source": [
    "def train(model, iterator, criterion, optimizer):\n",
    "    \n",
    "    losses = []\n",
    "    y_trues = []\n",
    "    y_preds = []\n",
    "    \n",
    "    \n",
    "    pbar = tqdm(enumerate(iterator), total=len(iterator), desc=\"Training\")\n",
    "    for _, batch in pbar:\n",
    "        text, y_true = batch[0], batch[1]\n",
    "        optimizer.zero_grad()   \n",
    "        y_pred = model(text.to(device)).squeeze() \n",
    "        loss = criterion(y_pred, y_true.to(device))   \n",
    "        \n",
    "        \n",
    "        loss.backward()\n",
    "        optimizer.step()\n",
    "        \n",
    "        y_pred = torch.argmax(y_pred, dim=1).tolist()\n",
    "        y_trues.extend(y_true.tolist())\n",
    "        y_preds.extend(y_pred)\n",
    "        \n",
    "        losses.append(loss.item())\n",
    "        \n",
    "        pbar.set_postfix({'loss': loss.item()})\n",
    "    \n",
    "    f1_score_epoch = f1_score(y_trues, y_preds, average=\"weighted\")\n",
    "    \n",
    "    return losses, f1_score_epoch"
   ]
  },
  {
   "cell_type": "code",
   "execution_count": 28,
   "id": "562ccdd9",
   "metadata": {},
   "outputs": [],
   "source": [
    "def evaluate(model, iterator, criterion, show_classification_report=False):\n",
    "    \n",
    "    losses = []\n",
    "    y_trues = []\n",
    "    y_preds = []\n",
    "    \n",
    "    \n",
    "    pbar = tqdm(enumerate(iterator), total=len(iterator), desc=\"Evaluation\")\n",
    "    with torch.no_grad():\n",
    "        for _, batch in pbar:\n",
    "            text, y_true = batch[0], batch[1]\n",
    "            y_pred = model(text.to(device)).squeeze() \n",
    "            \n",
    "            loss = criterion(y_pred, y_true.to(device))   \n",
    "            losses.append(loss.item())\n",
    "            \n",
    "            y_pred = torch.argmax(y_pred, dim=1).tolist()\n",
    "            y_trues.extend(y_true.tolist())\n",
    "            y_preds.extend(y_pred)\n",
    "\n",
    "\n",
    "            pbar.set_postfix({'loss': loss.item()})\n",
    "    \n",
    "    f1_score_epoch = f1_score(y_trues, y_preds, average=\"weighted\")\n",
    "    loss = np.array(losses).mean()\n",
    "    \n",
    "    if show_classification_report: # For test data purposes\n",
    "        print(classification_report(y_trues, y_preds))\n",
    "\n",
    "    return losses, f1_score_epoch"
   ]
  },
  {
   "cell_type": "code",
   "execution_count": 29,
   "id": "cf98601f",
   "metadata": {},
   "outputs": [
    {
     "name": "stdout",
     "output_type": "stream",
     "text": [
      "Epoch 0\n"
     ]
    },
    {
     "name": "stderr",
     "output_type": "stream",
     "text": [
      "Training: 100%|██████████| 179/179 [03:31<00:00,  1.18s/it, loss=0.966]\n",
      "Evaluation: 100%|██████████| 8/8 [00:00<00:00,  8.83it/s, loss=0.874]\n"
     ]
    },
    {
     "name": "stdout",
     "output_type": "stream",
     "text": [
      "Train loss: 0.9607333967139601, Train F1-score: 0.47963476150973433\n",
      "Validation loss: 0.9345271438360214 Validation F1-score: 0.5045110254711\n",
      "\n",
      "Epoch 1\n"
     ]
    },
    {
     "name": "stderr",
     "output_type": "stream",
     "text": [
      "Training: 100%|██████████| 179/179 [03:23<00:00,  1.13s/it, loss=0.876]\n",
      "Evaluation: 100%|██████████| 8/8 [00:00<00:00, 10.12it/s, loss=0.888]\n"
     ]
    },
    {
     "name": "stdout",
     "output_type": "stream",
     "text": [
      "Train loss: 0.8809857501663976, Train F1-score: 0.5564559592260009\n",
      "Validation loss: 0.8926337510347366 Validation F1-score: 0.5612657557045693\n",
      "\n",
      "Epoch 2\n"
     ]
    },
    {
     "name": "stderr",
     "output_type": "stream",
     "text": [
      "Training: 100%|██████████| 179/179 [03:25<00:00,  1.15s/it, loss=0.819]\n",
      "Evaluation: 100%|██████████| 8/8 [00:00<00:00,  9.95it/s, loss=0.869]\n"
     ]
    },
    {
     "name": "stdout",
     "output_type": "stream",
     "text": [
      "Train loss: 0.8181865231950856, Train F1-score: 0.6064864650318065\n",
      "Validation loss: 0.8743023350834846 Validation F1-score: 0.5688730042490326\n",
      "\n",
      "Epoch 3\n"
     ]
    },
    {
     "name": "stderr",
     "output_type": "stream",
     "text": [
      "Training: 100%|██████████| 179/179 [03:27<00:00,  1.16s/it, loss=0.736]\n",
      "Evaluation: 100%|██████████| 8/8 [00:00<00:00, 10.23it/s, loss=0.777]\n"
     ]
    },
    {
     "name": "stdout",
     "output_type": "stream",
     "text": [
      "Train loss: 0.7668965388942697, Train F1-score: 0.6433208660680741\n",
      "Validation loss: 0.8613495752215385 Validation F1-score: 0.594316164425103\n",
      "\n",
      "Epoch 4\n"
     ]
    },
    {
     "name": "stderr",
     "output_type": "stream",
     "text": [
      "Training: 100%|██████████| 179/179 [03:24<00:00,  1.14s/it, loss=0.674]\n",
      "Evaluation: 100%|██████████| 8/8 [00:00<00:00,  8.91it/s, loss=0.9]  \n"
     ]
    },
    {
     "name": "stdout",
     "output_type": "stream",
     "text": [
      "Train loss: 0.719515492796232, Train F1-score: 0.6749220716512654\n",
      "Validation loss: 0.8588440492749214 Validation F1-score: 0.6098519496572248\n",
      "\n",
      "Epoch 5\n"
     ]
    },
    {
     "name": "stderr",
     "output_type": "stream",
     "text": [
      "Training: 100%|██████████| 179/179 [03:25<00:00,  1.15s/it, loss=0.741]\n",
      "Evaluation: 100%|██████████| 8/8 [00:00<00:00,  9.75it/s, loss=0.885]\n"
     ]
    },
    {
     "name": "stdout",
     "output_type": "stream",
     "text": [
      "Train loss: 0.6810815187805858, Train F1-score: 0.6962752171294846\n",
      "Validation loss: 0.8678638935089111 Validation F1-score: 0.6075137655815622\n",
      "\n",
      "Epoch 6\n"
     ]
    },
    {
     "name": "stderr",
     "output_type": "stream",
     "text": [
      "Training:   6%|▌         | 11/179 [00:12<03:04,  1.10s/it, loss=0.686]\n"
     ]
    },
    {
     "ename": "KeyboardInterrupt",
     "evalue": "",
     "output_type": "error",
     "traceback": [
      "\u001b[0;31m---------------------------------------------------------------------------\u001b[0m",
      "\u001b[0;31mKeyboardInterrupt\u001b[0m                         Traceback (most recent call last)",
      "\u001b[0;32m/tmp/ipykernel_26185/90850088.py\u001b[0m in \u001b[0;36m<module>\u001b[0;34m\u001b[0m\n\u001b[1;32m     15\u001b[0m         \u001b[0miterator\u001b[0m\u001b[0;34m=\u001b[0m\u001b[0mtrain_loader\u001b[0m\u001b[0;34m,\u001b[0m\u001b[0;34m\u001b[0m\u001b[0;34m\u001b[0m\u001b[0m\n\u001b[1;32m     16\u001b[0m         \u001b[0mcriterion\u001b[0m\u001b[0;34m=\u001b[0m\u001b[0mcriterion\u001b[0m\u001b[0;34m,\u001b[0m\u001b[0;34m\u001b[0m\u001b[0;34m\u001b[0m\u001b[0m\n\u001b[0;32m---> 17\u001b[0;31m         \u001b[0moptimizer\u001b[0m\u001b[0;34m=\u001b[0m\u001b[0moptimizer\u001b[0m\u001b[0;34m\u001b[0m\u001b[0;34m\u001b[0m\u001b[0m\n\u001b[0m\u001b[1;32m     18\u001b[0m     )\n\u001b[1;32m     19\u001b[0m \u001b[0;34m\u001b[0m\u001b[0m\n",
      "\u001b[0;32m/tmp/ipykernel_26185/2167048801.py\u001b[0m in \u001b[0;36mtrain\u001b[0;34m(model, iterator, criterion, optimizer)\u001b[0m\n\u001b[1;32m     14\u001b[0m \u001b[0;34m\u001b[0m\u001b[0m\n\u001b[1;32m     15\u001b[0m \u001b[0;34m\u001b[0m\u001b[0m\n\u001b[0;32m---> 16\u001b[0;31m         \u001b[0mloss\u001b[0m\u001b[0;34m.\u001b[0m\u001b[0mbackward\u001b[0m\u001b[0;34m(\u001b[0m\u001b[0;34m)\u001b[0m\u001b[0;34m\u001b[0m\u001b[0;34m\u001b[0m\u001b[0m\n\u001b[0m\u001b[1;32m     17\u001b[0m         \u001b[0moptimizer\u001b[0m\u001b[0;34m.\u001b[0m\u001b[0mstep\u001b[0m\u001b[0;34m(\u001b[0m\u001b[0;34m)\u001b[0m\u001b[0;34m\u001b[0m\u001b[0;34m\u001b[0m\u001b[0m\n\u001b[1;32m     18\u001b[0m \u001b[0;34m\u001b[0m\u001b[0m\n",
      "\u001b[0;32m/home/user/conda/lib/python3.7/site-packages/torch/tensor.py\u001b[0m in \u001b[0;36mbackward\u001b[0;34m(self, gradient, retain_graph, create_graph)\u001b[0m\n\u001b[1;32m    148\u001b[0m                 \u001b[0mproducts\u001b[0m\u001b[0;34m.\u001b[0m \u001b[0mDefaults\u001b[0m \u001b[0mto\u001b[0m\u001b[0;31m \u001b[0m\u001b[0;31m`\u001b[0m\u001b[0;31m`\u001b[0m\u001b[0;32mFalse\u001b[0m\u001b[0;31m`\u001b[0m\u001b[0;31m`\u001b[0m\u001b[0;34m.\u001b[0m\u001b[0;34m\u001b[0m\u001b[0;34m\u001b[0m\u001b[0m\n\u001b[1;32m    149\u001b[0m         \"\"\"\n\u001b[0;32m--> 150\u001b[0;31m         \u001b[0mtorch\u001b[0m\u001b[0;34m.\u001b[0m\u001b[0mautograd\u001b[0m\u001b[0;34m.\u001b[0m\u001b[0mbackward\u001b[0m\u001b[0;34m(\u001b[0m\u001b[0mself\u001b[0m\u001b[0;34m,\u001b[0m \u001b[0mgradient\u001b[0m\u001b[0;34m,\u001b[0m \u001b[0mretain_graph\u001b[0m\u001b[0;34m,\u001b[0m \u001b[0mcreate_graph\u001b[0m\u001b[0;34m)\u001b[0m\u001b[0;34m\u001b[0m\u001b[0;34m\u001b[0m\u001b[0m\n\u001b[0m\u001b[1;32m    151\u001b[0m \u001b[0;34m\u001b[0m\u001b[0m\n\u001b[1;32m    152\u001b[0m     \u001b[0;32mdef\u001b[0m \u001b[0mregister_hook\u001b[0m\u001b[0;34m(\u001b[0m\u001b[0mself\u001b[0m\u001b[0;34m,\u001b[0m \u001b[0mhook\u001b[0m\u001b[0;34m)\u001b[0m\u001b[0;34m:\u001b[0m\u001b[0;34m\u001b[0m\u001b[0;34m\u001b[0m\u001b[0m\n",
      "\u001b[0;32m/home/user/conda/lib/python3.7/site-packages/torch/autograd/__init__.py\u001b[0m in \u001b[0;36mbackward\u001b[0;34m(tensors, grad_tensors, retain_graph, create_graph, grad_variables)\u001b[0m\n\u001b[1;32m     97\u001b[0m     Variable._execution_engine.run_backward(\n\u001b[1;32m     98\u001b[0m         \u001b[0mtensors\u001b[0m\u001b[0;34m,\u001b[0m \u001b[0mgrad_tensors\u001b[0m\u001b[0;34m,\u001b[0m \u001b[0mretain_graph\u001b[0m\u001b[0;34m,\u001b[0m \u001b[0mcreate_graph\u001b[0m\u001b[0;34m,\u001b[0m\u001b[0;34m\u001b[0m\u001b[0;34m\u001b[0m\u001b[0m\n\u001b[0;32m---> 99\u001b[0;31m         allow_unreachable=True)  # allow_unreachable flag\n\u001b[0m\u001b[1;32m    100\u001b[0m \u001b[0;34m\u001b[0m\u001b[0m\n\u001b[1;32m    101\u001b[0m \u001b[0;34m\u001b[0m\u001b[0m\n",
      "\u001b[0;31mKeyboardInterrupt\u001b[0m: "
     ]
    }
   ],
   "source": [
    "NUM_EPOCHS = 15  # Задайте количество эпох\n",
    "\n",
    "losses_train_total = []\n",
    "losses_valid_total = []\n",
    "\n",
    "f1_train = []\n",
    "f1_eval = []\n",
    "\n",
    "for n_epoch in range(NUM_EPOCHS):\n",
    "    print(f\"Epoch {n_epoch}\")\n",
    "    \n",
    "    # training\n",
    "    losses_train, f1_score_train = train(\n",
    "        model=model,\n",
    "        iterator=train_loader,\n",
    "        criterion=criterion,\n",
    "        optimizer=optimizer\n",
    "    )\n",
    "    \n",
    "    loss_train_epoch = np.array(losses_train).mean()   \n",
    "    f1_train.append(f1_score_train)\n",
    "    losses_train_total.append(loss_train_epoch)\n",
    "    \n",
    "    \n",
    "    # validation\n",
    "    losses_valid, f1_score_valid = evaluate(\n",
    "        model=model,\n",
    "        iterator=valid_loader,\n",
    "        criterion=criterion,\n",
    "    )\n",
    "    \n",
    "    loss_valid_epoch = np.array(losses_valid).mean()   \n",
    "    f1_eval.append(f1_score_valid)\n",
    "    losses_valid_total.append(loss_valid_epoch)\n",
    "    \n",
    "    print(f\"Train loss: {loss_train_epoch}, Train F1-score: {f1_score_train}\\nValidation loss: {loss_valid_epoch} Validation F1-score: {f1_score_valid}\\n\")"
   ]
  },
  {
   "cell_type": "code",
   "execution_count": null,
   "id": "8eb031eb",
   "metadata": {},
   "outputs": [],
   "source": [
    "# Остановила обучение, так как лосс на валидации начал возрастать"
   ]
  },
  {
   "cell_type": "code",
   "execution_count": 30,
   "id": "14ec9c7e",
   "metadata": {},
   "outputs": [
    {
     "data": {
      "image/png": "[encoded data removed]",
      "text/plain": [
       "<Figure size 720x432 with 1 Axes>"
      ]
     },
     "metadata": {
      "needs_background": "light"
     },
     "output_type": "display_data"
    }
   ],
   "source": [
    "plt.figure(figsize=(10,6))\n",
    "plt.plot(np.arange(len(losses_train_total)), losses_train_total, label='Train')\n",
    "plt.plot(np.arange(len(losses_valid_total)), losses_valid_total, label='Valid')\n",
    "plt.xlabel('Epochs', fontsize=15)\n",
    "plt.ylabel('Loss', fontsize=15)\n",
    "plt.legend(fontsize='x-large')\n",
    "plt.show()"
   ]
  },
  {
   "cell_type": "code",
   "execution_count": 31,
   "id": "df4141a4",
   "metadata": {},
   "outputs": [
    {
     "name": "stderr",
     "output_type": "stream",
     "text": [
      "Evaluation: 100%|██████████| 48/48 [00:05<00:00,  9.04it/s, loss=1.01] \n"
     ]
    },
    {
     "name": "stdout",
     "output_type": "stream",
     "text": [
      "              precision    recall  f1-score   support\n",
      "\n",
      "           0       0.65      0.33      0.44      3972\n",
      "           1       0.58      0.77      0.66      5937\n",
      "           2       0.49      0.49      0.49      2375\n",
      "\n",
      "    accuracy                           0.57     12284\n",
      "   macro avg       0.57      0.53      0.53     12284\n",
      "weighted avg       0.59      0.57      0.56     12284\n",
      "\n"
     ]
    }
   ],
   "source": [
    "# Test Model on Hold Out Test Data\n",
    "_, f1_score_test = evaluate(model=model, iterator=test_loader, criterion=criterion, show_classification_report=True)"
   ]
  },
  {
   "cell_type": "markdown",
   "id": "d481c0e3",
   "metadata": {},
   "source": [
    "# Выводы\n",
    "Напишите небольшой отчет о проделанной работе. Что удалось, в чем не уверены, что делать дальше."
   ]
  },
  {
   "cell_type": "markdown",
   "id": "b3196ad6",
   "metadata": {},
   "source": [
    "В ходе работы над заданием удалось реализовать простейшую архитектуру (усреднение эмбеддингов + вектора слов). Ее можно считать бейзлайном 2 уровня (после tfidf+logreg). \n",
    "\n",
    "Но и в этой модели есть несколько путей для улучшения: \n",
    "* Подбор оптимальных эмбеддингов (сейчас взяты без какого-либо глубокого анализа)\n",
    "* Реализация не только усреднения эмбеддингов, но и min/max пулинга\n",
    "* Подбор оптимальных гиперпараметров (hidden_size, learning_rate)\n",
    "* Отлов момента переобучения (через early-stoppinh)\n",
    "\n",
    "Тем не менее, модель уже выдает приемлимое качество и ее архитектуру можно использовать и докручивать для других задач."
   ]
  },
  {
   "cell_type": "code",
   "execution_count": null,
   "id": "a75f7406",
   "metadata": {},
   "outputs": [],
   "source": []
  }
 ],
 "metadata": {
  "kernelspec": {
   "display_name": "Python 3 (ipykernel)",
   "language": "python",
   "name": "python3"
  },
  "language_info": {
   "codemirror_mode": {
    "name": "ipython",
    "version": 3
   },
   "file_extension": ".py",
   "mimetype": "text/x-python",
   "name": "python",
   "nbconvert_exporter": "python",
   "pygments_lexer": "ipython3",
   "version": "3.7.10"
  }
 },
 "nbformat": 4,
 "nbformat_minor": 5
}
